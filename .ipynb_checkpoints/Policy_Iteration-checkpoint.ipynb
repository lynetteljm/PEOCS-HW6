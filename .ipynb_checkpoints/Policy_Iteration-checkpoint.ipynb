{
 "cells": [
  {
   "cell_type": "code",
   "execution_count": 1,
   "metadata": {},
   "outputs": [
    {
     "name": "stdout",
     "output_type": "stream",
     "text": [
      "rewards:\n",
      "---------------------------\n",
      "-0.30|-0.30|-0.30|-0.30|-0.30|\n",
      "---------------------------\n",
      "-0.30|-0.30|-0.30|-0.30|-0.30|\n",
      "---------------------------\n",
      "-100.00|-100.00| 220.00|-100.00|-100.00|\n"
     ]
    }
   ],
   "source": [
    "# Adapted from: https://github.com/lazyprogrammer/machine_learning_examples/tree/master/rl\n",
    "import numpy as np\n",
    "from LunarLanderMDP import standard_grid, negative_grid,print_values, print_policy\n",
    "\n",
    "SMALL_ENOUGH = 1e-3\n",
    "GAMMA = 0.9\n",
    "ALL_POSSIBLE_ACTIONS = ('N', 'D', 'L', 'R')\n",
    "# this grid gives you a reward of -0.3\n",
    "# to find a shorter path to the goal, use negative grid\n",
    "grid = negative_grid()\n",
    "print(\"rewards:\")\n",
    "print_values(grid.rewards, grid)"
   ]
  },
  {
   "cell_type": "code",
   "execution_count": 5,
   "metadata": {},
   "outputs": [],
   "source": [
    "# state -> action\n",
    "# choose an action and update randomly \n",
    "policy = {}\n",
    "for s in grid.actions.keys():\n",
    "  policy[s] = np.random.choice(ALL_POSSIBLE_ACTIONS)"
   ]
  },
  {
   "cell_type": "code",
   "execution_count": 6,
   "metadata": {},
   "outputs": [
    {
     "name": "stdout",
     "output_type": "stream",
     "text": [
      "initial policy:\n",
      "---------------------------\n",
      "  D  |  D  |  R  |  N  |  R  |\n",
      "---------------------------\n",
      "  R  |  L  |  N  |  R  |  D  |\n",
      "---------------------------\n",
      "     |     |     |     |     |\n"
     ]
    }
   ],
   "source": [
    "# initial policy\n",
    "print(\"initial policy:\")\n",
    "print_policy(policy, grid)"
   ]
  },
  {
   "cell_type": "code",
   "execution_count": 7,
   "metadata": {},
   "outputs": [
    {
     "name": "stdout",
     "output_type": "stream",
     "text": [
      "{(0, 1): 0.8505571829639705, (2, 4): 0, (1, 2): 0.321023233920667, (0, 4): 0.7010007804525403, (2, 1): 0, (0, 2): 0.11872520072680615, (2, 2): 0, (1, 0): 0.6264153653775627, (1, 3): 0.05969337641103101, (0, 0): 0.190513460466452, (1, 1): 0.5080400950934961, (0, 3): 0.28480854803356437, (2, 0): 0, (1, 4): 0.3822658452413621, (2, 3): 0}\n",
      "---------------------------\n",
      " 0.19| 0.85| 0.12| 0.28| 0.70|\n",
      "---------------------------\n",
      " 0.63| 0.51| 0.32| 0.06| 0.38|\n",
      "---------------------------\n",
      " 0.00| 0.00| 0.00| 0.00| 0.00|\n"
     ]
    }
   ],
   "source": [
    "# initialize V(s) - value function\n",
    "V = {}\n",
    "states = grid.all_states()\n",
    "for s in states:\n",
    "  # V[s] = 0\n",
    "  if s in grid.actions:\n",
    "    V[s] = np.random.random()\n",
    "  else:\n",
    "    # terminal state\n",
    "    V[s] = 0\n",
    "\n",
    "# initial value for all states in grid\n",
    "print(V)\n",
    "print_values(V, grid)"
   ]
  },
  {
   "cell_type": "code",
   "execution_count": 8,
   "metadata": {},
   "outputs": [
    {
     "name": "stdout",
     "output_type": "stream",
     "text": [
      "values 1: \n",
      "---------------------------\n",
      " 0.19| 0.85| 0.12| 0.28| 0.70|\n",
      "---------------------------\n",
      " 0.63| 0.51| 0.32| 0.06| 0.38|\n",
      "---------------------------\n",
      " 0.00| 0.00| 0.00| 0.00| 0.00|\n",
      "policy 1: \n",
      "---------------------------\n",
      "  D  |  D  |  R  |  N  |  R  |\n",
      "---------------------------\n",
      "  R  |  L  |  N  |  R  |  D  |\n",
      "---------------------------\n",
      "     |     |     |     |     |\n",
      "values 2: \n",
      "---------------------------\n",
      "-3.00|-3.00|-2.99|-2.99|-2.99|\n",
      "---------------------------\n",
      "-3.00|-3.00|-2.99|-90.30|-100.00|\n",
      "---------------------------\n",
      " 0.00| 0.00| 0.00| 0.00| 0.00|\n",
      "policy 2: \n",
      "---------------------------\n",
      "  D  |  R  |  D  |  R  |  N  |\n",
      "---------------------------\n",
      "  N  |  R  |  D  |  L  |  L  |\n",
      "---------------------------\n",
      "     |     |     |     |     |\n",
      "values 3: \n",
      "---------------------------\n",
      "-3.00| 177.63| 197.70|-2.99|-2.99|\n",
      "---------------------------\n",
      "-3.00| 197.70| 220.00| 197.70| 177.63|\n",
      "---------------------------\n",
      " 0.00| 0.00| 0.00| 0.00| 0.00|\n",
      "policy 3: \n",
      "---------------------------\n",
      "  R  |  D  |  D  |  D  |  D  |\n",
      "---------------------------\n",
      "  R  |  R  |  D  |  L  |  L  |\n",
      "---------------------------\n",
      "     |     |     |     |     |\n",
      "values 4: \n",
      "---------------------------\n",
      " 159.57| 177.63| 197.70| 177.63| 159.57|\n",
      "---------------------------\n",
      " 177.63| 197.70| 220.00| 197.70| 177.63|\n",
      "---------------------------\n",
      " 0.00| 0.00| 0.00| 0.00| 0.00|\n",
      "policy 4: \n",
      "---------------------------\n",
      "  D  |  D  |  D  |  D  |  D  |\n",
      "---------------------------\n",
      "  R  |  R  |  D  |  L  |  L  |\n",
      "---------------------------\n",
      "     |     |     |     |     |\n"
     ]
    }
   ],
   "source": [
    "iteration=0\n",
    "# repeat until convergence\n",
    "# when policy does not change, it will finish\n",
    "while True:\n",
    "  iteration+=1\n",
    "  print(\"values %d: \" % iteration)\n",
    "  print_values(V, grid)\n",
    "  print(\"policy %d: \" % iteration)\n",
    "  print_policy(policy, grid)\n",
    "\n",
    "  # policy evaluation step\n",
    "  while True:\n",
    "    biggest_change = 0\n",
    "    for s in states:\n",
    "      old_v = V[s]\n",
    "\n",
    "      # V(s) only has value if it's not a terminal state\n",
    "      if s in policy:\n",
    "        a = policy[s]\n",
    "        grid.set_state(s)\n",
    "        r = grid.move(a) #reward\n",
    "        V[s] = r + GAMMA * V[grid.current_state()]\n",
    "        biggest_change = max(biggest_change, np.abs(old_v - V[s]))\n",
    "\n",
    "    if biggest_change < SMALL_ENOUGH:\n",
    "      break\n",
    "  # policy improvement step\n",
    "  is_policy_converged = True\n",
    "  for s in states:\n",
    "    if s in policy:\n",
    "      old_a = policy[s]\n",
    "      new_a = None\n",
    "      best_value = float('-inf')\n",
    "      # loop through all possible actions to find the best current action\n",
    "      for a in ALL_POSSIBLE_ACTIONS:\n",
    "        grid.set_state(s)\n",
    "        r = grid.move(a)\n",
    "        v = r + GAMMA * V[grid.current_state()]\n",
    "        if v > best_value:\n",
    "          best_value = v\n",
    "          new_a = a\n",
    "      policy[s] = new_a\n",
    "      if new_a != old_a:\n",
    "        is_policy_converged = False\n",
    "\n",
    "  if is_policy_converged:\n",
    "    break"
   ]
  },
  {
   "cell_type": "code",
   "execution_count": null,
   "metadata": {},
   "outputs": [],
   "source": []
  }
 ],
 "metadata": {
  "kernelspec": {
   "display_name": "Python 3",
   "language": "python",
   "name": "python3"
  },
  "language_info": {
   "codemirror_mode": {
    "name": "ipython",
    "version": 3
   },
   "file_extension": ".py",
   "mimetype": "text/x-python",
   "name": "python",
   "nbconvert_exporter": "python",
   "pygments_lexer": "ipython3",
   "version": "3.8.5"
  }
 },
 "nbformat": 4,
 "nbformat_minor": 4
}
