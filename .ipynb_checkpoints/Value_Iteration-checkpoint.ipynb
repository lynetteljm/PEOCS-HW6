{
 "cells": [
  {
   "cell_type": "code",
   "execution_count": 1,
   "metadata": {},
   "outputs": [
    {
     "name": "stdout",
     "output_type": "stream",
     "text": [
      "rewards:\n",
      "---------------------------\n",
      "-0.30|-0.30|-0.30|-0.30|-0.30|\n",
      "---------------------------\n",
      "-0.30|-0.30|-0.30|-0.30|-0.30|\n",
      "---------------------------\n",
      "-100.00|-100.00| 220.00|-100.00|-100.00|\n"
     ]
    }
   ],
   "source": [
    "# Adapted from: https://github.com/lazyprogrammer/machine_learning_examples/tree/master/rl\n",
    "# Value iteration\n",
    "import numpy as np\n",
    "from LunarLanderMDP import standard_grid, negative_grid,print_values, print_policy\n",
    "\n",
    "SMALL_ENOUGH = 1e-3\n",
    "GAMMA = 0.9\n",
    "ALL_POSSIBLE_ACTIONS = ('N', 'D', 'L', 'R')\n",
    "# this grid gives you a reward of -0.3\n",
    "# to find a shorter path to the goal, use negative grid\n",
    "grid = negative_grid()\n",
    "print(\"rewards:\")\n",
    "print_values(grid.rewards, grid)"
   ]
  },
  {
   "cell_type": "code",
   "execution_count": 2,
   "metadata": {},
   "outputs": [],
   "source": [
    "# state -> action\n",
    "# choose an action and update randomly \n",
    "policy = {}\n",
    "for s in grid.actions.keys():\n",
    "  policy[s] = np.random.choice(ALL_POSSIBLE_ACTIONS)"
   ]
  },
  {
   "cell_type": "code",
   "execution_count": 3,
   "metadata": {},
   "outputs": [
    {
     "name": "stdout",
     "output_type": "stream",
     "text": [
      "initial policy:\n",
      "---------------------------\n",
      "  R  |  R  |  D  |  R  |  D  |\n",
      "---------------------------\n",
      "  N  |  N  |  N  |  L  |  N  |\n",
      "---------------------------\n",
      "     |     |     |     |     |\n"
     ]
    }
   ],
   "source": [
    "# initial policy\n",
    "print(\"initial policy:\")\n",
    "print_policy(policy, grid)"
   ]
  },
  {
   "cell_type": "code",
   "execution_count": 4,
   "metadata": {},
   "outputs": [
    {
     "name": "stdout",
     "output_type": "stream",
     "text": [
      "{(0, 1): 0.8553719024847908, (2, 4): 0, (1, 2): 0.3931766264334018, (0, 4): 0.2594171234775059, (2, 1): 0, (0, 2): 0.586320641190402, (2, 2): 0, (1, 0): 0.8482915907919869, (1, 3): 0.7258159789290239, (0, 0): 0.7710381363805617, (1, 1): 0.0733010545406757, (0, 3): 0.7278290596045572, (2, 0): 0, (1, 4): 0.18415925948754697, (2, 3): 0}\n",
      "---------------------------\n",
      " 0.77| 0.86| 0.59| 0.73| 0.26|\n",
      "---------------------------\n",
      " 0.85| 0.07| 0.39| 0.73| 0.18|\n",
      "---------------------------\n",
      " 0.00| 0.00| 0.00| 0.00| 0.00|\n"
     ]
    }
   ],
   "source": [
    "# initialize V(s) - value function\n",
    "V = {}\n",
    "states = grid.all_states()\n",
    "for s in states:\n",
    "  # V[s] = 0\n",
    "  if s in grid.actions:\n",
    "    V[s] = np.random.random()\n",
    "  else:\n",
    "    # terminal state\n",
    "    V[s] = 0\n",
    "\n",
    "# initial value for all states in grid\n",
    "print(V)\n",
    "print_values(V, grid)"
   ]
  },
  {
   "cell_type": "code",
   "execution_count": 5,
   "metadata": {},
   "outputs": [
    {
     "name": "stdout",
     "output_type": "stream",
     "text": [
      "values 1: \n",
      "---------------------------\n",
      " 0.77| 0.86| 0.59| 0.73| 0.26|\n",
      "---------------------------\n",
      " 0.85| 0.07| 0.39| 0.73| 0.18|\n",
      "---------------------------\n",
      " 0.00| 0.00| 0.00| 0.00| 0.00|\n",
      "policy 1: \n",
      "---------------------------\n",
      "  R  |  R  |  D  |  R  |  D  |\n",
      "---------------------------\n",
      "  N  |  N  |  N  |  L  |  N  |\n",
      "---------------------------\n",
      "     |     |     |     |     |\n",
      "values 2: \n",
      "---------------------------\n",
      " 0.39| 0.47| 197.70| 177.63| 0.36|\n",
      "---------------------------\n",
      " 0.46| 197.70| 220.00| 197.70| 177.63|\n",
      "---------------------------\n",
      " 0.00| 0.00| 0.00| 0.00| 0.00|\n",
      "policy 2: \n",
      "---------------------------\n",
      "  R  |  R  |  D  |  R  |  D  |\n",
      "---------------------------\n",
      "  N  |  N  |  N  |  L  |  N  |\n",
      "---------------------------\n",
      "     |     |     |     |     |\n",
      "values 3: \n",
      "---------------------------\n",
      " 159.57| 177.63| 197.70| 177.63| 159.57|\n",
      "---------------------------\n",
      " 177.63| 197.70| 220.00| 197.70| 177.63|\n",
      "---------------------------\n",
      " 0.00| 0.00| 0.00| 0.00| 0.00|\n",
      "policy 3: \n",
      "---------------------------\n",
      "  R  |  R  |  D  |  R  |  D  |\n",
      "---------------------------\n",
      "  N  |  N  |  N  |  L  |  N  |\n",
      "---------------------------\n",
      "     |     |     |     |     |\n",
      "values:\n",
      "---------------------------\n",
      " 159.57| 177.63| 197.70| 177.63| 159.57|\n",
      "---------------------------\n",
      " 177.63| 197.70| 220.00| 197.70| 177.63|\n",
      "---------------------------\n",
      " 0.00| 0.00| 0.00| 0.00| 0.00|\n",
      "policy:\n",
      "---------------------------\n",
      "  D  |  D  |  D  |  D  |  D  |\n",
      "---------------------------\n",
      "  R  |  R  |  D  |  L  |  L  |\n",
      "---------------------------\n",
      "     |     |     |     |     |\n"
     ]
    }
   ],
   "source": [
    "# this section is different from policy iteration\n",
    "# repeat until convergence\n",
    "# V[s] = max[a]{ sum[s',r] { p(s',r|s,a)[r + gamma*V[s']] } }\n",
    "iteration=0\n",
    "while True:\n",
    "  iteration+=1\n",
    "  print(\"values %d: \" % iteration)\n",
    "  print_values(V, grid)\n",
    "  print(\"policy %d: \" % iteration)\n",
    "  print_policy(policy, grid)\n",
    "  \n",
    "  biggest_change = 0\n",
    "  for s in states:\n",
    "    old_v = V[s]\n",
    "\n",
    "    # V(s) only has value if it's not a terminal state\n",
    "    if s in policy:\n",
    "      new_v = float('-inf')\n",
    "      for a in ALL_POSSIBLE_ACTIONS:\n",
    "        grid.set_state(s)\n",
    "        r = grid.move(a)\n",
    "        v = r + GAMMA * V[grid.current_state()]\n",
    "        if v > new_v:\n",
    "          new_v = v\n",
    "      V[s] = new_v\n",
    "      biggest_change = max(biggest_change, np.abs(old_v - V[s]))\n",
    "\n",
    "  if biggest_change < SMALL_ENOUGH:\n",
    "    break\n",
    "\n",
    "# find a policy that leads to optimal value function\n",
    "for s in policy.keys():\n",
    "  best_a = None\n",
    "  best_value = float('-inf')\n",
    "  # loop through all possible actions to find the best current action\n",
    "  for a in ALL_POSSIBLE_ACTIONS:\n",
    "    grid.set_state(s)\n",
    "    r = grid.move(a)\n",
    "    v = r + GAMMA * V[grid.current_state()]\n",
    "    if v > best_value:\n",
    "      best_value = v\n",
    "      best_a = a\n",
    "  policy[s] = best_a\n",
    "\n",
    "# our goal here is to verify that we get the same answer as with policy iteration\n",
    "print(\"values:\")\n",
    "print_values(V, grid)\n",
    "print(\"policy:\")\n",
    "print_policy(policy, grid)"
   ]
  },
  {
   "cell_type": "code",
   "execution_count": null,
   "metadata": {},
   "outputs": [],
   "source": []
  }
 ],
 "metadata": {
  "kernelspec": {
   "display_name": "Python 3",
   "language": "python",
   "name": "python3"
  },
  "language_info": {
   "codemirror_mode": {
    "name": "ipython",
    "version": 3
   },
   "file_extension": ".py",
   "mimetype": "text/x-python",
   "name": "python",
   "nbconvert_exporter": "python",
   "pygments_lexer": "ipython3",
   "version": "3.8.5"
  }
 },
 "nbformat": 4,
 "nbformat_minor": 4
}
